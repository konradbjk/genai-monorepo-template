{
 "cells": [
  {
   "cell_type": "code",
   "execution_count": null,
   "id": "120edddb",
   "metadata": {},
   "outputs": [],
   "source": [
    "from typing import List\n",
    "from langchain_core.documents import Document\n",
    "from langchain_core.prompts import PromptTemplate\n",
    "from langchain.chains.query_constructor.schema import AttributeInfo\n",
    "from langchain.retrievers.self_query.base import SelfQueryRetriever\n",
    "from langchain_community.query_constructors.qdrant import QdrantTranslator\n",
    "from dotenv import load_dotenv\n",
    "load_dotenv()\n",
    "\n",
    "from app.utils import gpt_41 as llm, qdrant as vectorestore"
   ]
  },
  {
   "cell_type": "code",
   "execution_count": null,
   "id": "14099d13",
   "metadata": {},
   "outputs": [],
   "source": [
    "from app.pipelines import ingest_sample_documents\n",
    "ingest_sample_documents()"
   ]
  },
  {
   "cell_type": "code",
   "execution_count": null,
   "id": "b27b39f7",
   "metadata": {},
   "outputs": [],
   "source": [
    "llm.invoke(\"Who is the most known Konrad Bujak working in IT\")"
   ]
  },
  {
   "cell_type": "code",
   "execution_count": null,
   "id": "885a46ef",
   "metadata": {},
   "outputs": [],
   "source": [
    "prompt_template = PromptTemplate.from_template(\n",
    "    \"You are a product expert. Answer the question in English:\\n\\nQuestion: {text}\"\n",
    ")\n",
    "\n",
    "metadata_field_info = [\n",
    "    AttributeInfo(\n",
    "        name=\"genre\",\n",
    "        description=\"The genre of the movie\",\n",
    "        type=\"string or list[string]\",\n",
    "    ),\n",
    "    AttributeInfo(\n",
    "        name=\"year\",\n",
    "        description=\"The year the movie was released\",\n",
    "        type=\"integer\",\n",
    "    ),\n",
    "    AttributeInfo(\n",
    "        name=\"director\",\n",
    "        description=\"The name of the movie director\",\n",
    "        type=\"string\",\n",
    "    ),\n",
    "    AttributeInfo(\n",
    "        name=\"rating\", description=\"A 1-10 rating for the movie\", type=\"float\"\n",
    "    ),\n",
    "]\n",
    "\n",
    "document_content_description = \"Brief summary of a movie\"\n",
    "\n",
    "def self_query_documents(query: str):\n",
    "    \"\"\"Pipeline - Self-Query Retriever\n",
    "\n",
    "    Args:\n",
    "        query (str): string which is used to create queries\n",
    "\n",
    "    Returns:\n",
    "        List[Document]: list of documents found, could be empty\n",
    "    \"\"\"\n",
    "\n",
    "    retriever = SelfQueryRetriever.from_llm(\n",
    "        llm, vectorestore, document_content_description, metadata_field_info,\n",
    "        structured_query_translator=QdrantTranslator(metadata_key=\"metadata\"),\n",
    "        use_original_query=True,\n",
    "        verbose=True\n",
    "    )\n",
    "\n",
    "    \n",
    "\n",
    "    return retriever.invoke(query)\n"
   ]
  },
  {
   "cell_type": "code",
   "execution_count": null,
   "id": "c40712c9",
   "metadata": {},
   "outputs": [],
   "source": [
    "vectorestore.similarity_search(\"What are some movies about dinosaurs\")"
   ]
  },
  {
   "cell_type": "code",
   "execution_count": null,
   "id": "f886b38a",
   "metadata": {},
   "outputs": [],
   "source": [
    "self_query_documents(\"I want to watch a movie rated higher than 8.5\")"
   ]
  },
  {
   "cell_type": "code",
   "execution_count": null,
   "id": "6fc3b922",
   "metadata": {},
   "outputs": [],
   "source": []
  }
 ],
 "metadata": {
  "kernelspec": {
   "display_name": ".venv",
   "language": "python",
   "name": "python3"
  },
  "language_info": {
   "codemirror_mode": {
    "name": "ipython",
    "version": 3
   },
   "file_extension": ".py",
   "mimetype": "text/x-python",
   "name": "python",
   "nbconvert_exporter": "python",
   "pygments_lexer": "ipython3",
   "version": "3.12.8"
  }
 },
 "nbformat": 4,
 "nbformat_minor": 5
}
